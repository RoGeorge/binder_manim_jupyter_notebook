{
 "cells": [
  {
   "cell_type": "code",
   "execution_count": 1,
   "metadata": {},
   "outputs": [],
   "source": [
    "import jupyter_manim"
   ]
  },
  {
   "cell_type": "code",
   "execution_count": 29,
   "metadata": {},
   "outputs": [
    {
     "data": {
      "text/html": [
       "\n",
       "    <video\n",
       "      width=\"854\"\n",
       "      height=\"480\"\n",
       "      autoplay=\"autoplay\"\n",
       "      controls\n",
       "    >\n",
       "        <source src=\"media/videos/tmpfr1t42vw/480p15/SomeAnimation.mp4\" type=\"video/mp4\">\n",
       "    </video>\n",
       "    "
      ],
      "text/plain": [
       "<IPython.core.display.HTML object>"
      ]
     },
     "execution_count": 29,
     "metadata": {},
     "output_type": "execute_result"
    }
   ],
   "source": [
    "%%manim SomeAnimation --low_quality\n",
    "# --low_quality rendering is faster\n",
    "\n",
    "from manimlib.imports import *\n",
    "\n",
    "class SomeAnimation(Scene):\n",
    "    def construct(self):\n",
    "        c1 = Circle()\n",
    "        c2 = Circle()\n",
    "        \n",
    "        sq1 = Square(color=YELLOW)\n",
    "        t1 = Triangle()      \n",
    "        \n",
    "        self.play(ShowCreation(c1))\n",
    "        self.play(FadeIn(sq1))\n",
    "        \n",
    "        self.play(Transform(c2, t1))\n",
    "        \n",
    "        c2.generate_target()\n",
    "        c2.target.move_to(UP)     \n",
    "        self.play(MoveToTarget(c2))\n",
    "        \n",
    "        c2.target.move_to(2*DOWN)\n",
    "        self.play(MoveToTarget(c2))\n",
    "        \n",
    "        c2.target.rotate(PI)\n",
    "        self.play(ClockwiseTransform(c2, c2.target))\n",
    "        \n",
    "        c2.target.move_to(0.25*DOWN)\n",
    "        self.play(MoveToTarget(c2))\n",
    "        \n",
    "        #for moves in [2*UP, 2*DOWN, LEFT+DOWN, LEFT+RIGHT, 0]:\n",
    "        for moves in [2*UP, 4*LEFT+3*DOWN, 4*RIGHT+3*DOWN, -0.25*UP]:\n",
    "            c2.target.move_to(moves)\n",
    "            self.play(MoveToTarget(c2))\n",
    "            \n",
    "        c2.target.rotate(PI)\n",
    "        self.play(CounterclockwiseTransform(c2, c2.target))\n",
    "\n",
    "        c2.target.move_to(0.25*UP)\n",
    "        self.play(MoveToTarget(c2))"
   ]
  }
 ],
 "metadata": {
  "kernelspec": {
   "display_name": "Python 3",
   "language": "python",
   "name": "python3"
  },
  "language_info": {
   "codemirror_mode": {
    "name": "ipython",
    "version": 3
   },
   "file_extension": ".py",
   "mimetype": "text/x-python",
   "name": "python",
   "nbconvert_exporter": "python",
   "pygments_lexer": "ipython3",
   "version": "3.8.10"
  }
 },
 "nbformat": 4,
 "nbformat_minor": 4
}
